{
 "cells": [
  {
   "cell_type": "markdown",
   "id": "da48c929-67fb-44bb-b041-1df147685129",
   "metadata": {},
   "source": [
    "Q1. Create one variable containing following type of data:\n",
    "(i) string\n",
    "(ii) list\n",
    "(iii) float\n",
    "(iv) tuple"
   ]
  },
  {
   "cell_type": "markdown",
   "id": "258855c8-8db2-49ec-b302-e4672268c145",
   "metadata": {},
   "source": [
    "Ans: (i) String:"
   ]
  },
  {
   "cell_type": "code",
   "execution_count": 4,
   "id": "b867040c-0e5e-4351-9b8f-6b712896d26a",
   "metadata": {},
   "outputs": [
    {
     "name": "stdout",
     "output_type": "stream",
     "text": [
      "PWSKILLS\n"
     ]
    }
   ],
   "source": [
    "string_variable = \"PWSKILLS\"\n",
    "print(string_variable)"
   ]
  },
  {
   "cell_type": "markdown",
   "id": "20af76e5-c680-4387-87c4-6eb73e2239b9",
   "metadata": {},
   "source": [
    "(ii) List"
   ]
  },
  {
   "cell_type": "code",
   "execution_count": 5,
   "id": "6027b299-515e-4bc5-bec8-8c29af158a06",
   "metadata": {},
   "outputs": [
    {
     "name": "stdout",
     "output_type": "stream",
     "text": [
      "[1, 2, 3, 4, 5]\n"
     ]
    }
   ],
   "source": [
    "list_variable = [1, 2, 3, 4, 5]\n",
    "print(list_variable)"
   ]
  },
  {
   "cell_type": "markdown",
   "id": "39c0fbc5-4eba-49d8-b4a4-a8428f622087",
   "metadata": {},
   "source": [
    "(iii) float"
   ]
  },
  {
   "cell_type": "code",
   "execution_count": 8,
   "id": "a96cb3af-10db-45d3-aed5-b2b54bc6d171",
   "metadata": {},
   "outputs": [
    {
     "name": "stdout",
     "output_type": "stream",
     "text": [
      "3.145454\n"
     ]
    }
   ],
   "source": [
    "float_variable = 3.145454\n",
    "print(float_variable)"
   ]
  },
  {
   "cell_type": "markdown",
   "id": "0d940686-20a3-4df7-9d9c-dca812de539f",
   "metadata": {},
   "source": [
    "(iv) tuple"
   ]
  },
  {
   "cell_type": "code",
   "execution_count": 12,
   "id": "16ac1463-2dff-438e-8b21-431e858875ca",
   "metadata": {},
   "outputs": [
    {
     "name": "stdout",
     "output_type": "stream",
     "text": [
      "(1, 2, 3, 4, 5)\n"
     ]
    }
   ],
   "source": [
    "tuple_variable = (1, 2, 3, 4, 5)\n",
    "\n",
    "print(tuple_variable)"
   ]
  },
  {
   "cell_type": "markdown",
   "id": "fd71a071-6137-4f5c-a726-24f5cd775ecd",
   "metadata": {},
   "source": [
    "Q2. Given are some following variables containing data:\n",
    "(i) var1 = ‘ ‘\n",
    "(ii) var2 = ‘[ DS , ML , Python]’\n",
    "(iii) var3 = [ ‘DS’ , ’ML’ , ‘Python’ ]\n",
    "(iv) var4 = 1.\n",
    "What will be the data type of the above given variable."
   ]
  },
  {
   "cell_type": "markdown",
   "id": "a606a7fa-c08d-4a70-804d-8864a57d848b",
   "metadata": {},
   "source": [
    "Ans: The data types of the given variables are as follows:"
   ]
  },
  {
   "cell_type": "markdown",
   "id": "c2d029a5-7d16-4b0f-aa80-5332c0ff14d7",
   "metadata": {},
   "source": [
    "(i) var1 = ‘ ‘ => The data type of var1 is a string. It contains a single space character.\n",
    "\n",
    "(ii) var2 = ‘[ DS , ML , Python]’ => The data type of var2 is also a string. It contains\n",
    "    a sequence of characters enclosed in single quotes.\n",
    "\n",
    "(iii) var3 = [ ‘DS’ , ’ML’ , ‘Python’ ] => The data type of var3 is a list. It contains\n",
    "     multiple elements enclosed in square brackets. Each element in the list is a string.\n",
    "\n",
    "(iv) var4 = 1. => The data type of var4 is a float. The presence of a decimal point after\n",
    "    the number 1 indicates that it is a floating-point number."
   ]
  },
  {
   "cell_type": "markdown",
   "id": "badd3bd5-e5ac-4939-8c91-3b4f7fd1b4b7",
   "metadata": {},
   "source": [
    "Q3. Explain the use of the following operators using an example:\n",
    "(i) /\n",
    "(ii) %\n",
    "(iii) //\n",
    "(iv) **"
   ]
  },
  {
   "cell_type": "markdown",
   "id": "26c511fd-0026-49bb-9e45-c02a03f22185",
   "metadata": {},
   "source": [
    "Ans: The explanation of each operator along with an example are as under: \n"
   ]
  },
  {
   "cell_type": "markdown",
   "id": "77168e9c-f0f4-44dd-b4a5-eeb951256bfb",
   "metadata": {},
   "source": [
    "(i) / (Division Operator) : The division operator / performs division between two operands \n",
    "    and returns the quotient as a floating-point number. It is used to divide one number by another."
   ]
  },
  {
   "cell_type": "markdown",
   "id": "a14f0b61-7952-4694-bb7d-fdc955ee7ac3",
   "metadata": {},
   "source": [
    "Example:"
   ]
  },
  {
   "cell_type": "code",
   "execution_count": 19,
   "id": "7ac0e5c3-2fbe-4900-9798-8df7d67a7929",
   "metadata": {},
   "outputs": [
    {
     "name": "stdout",
     "output_type": "stream",
     "text": [
      "5.090909090909091\n"
     ]
    }
   ],
   "source": [
    "a = 112\n",
    "b = 22\n",
    "result = a / b\n",
    "print(result)"
   ]
  },
  {
   "cell_type": "markdown",
   "id": "8e21e1d4-d01c-4518-8497-63a7004fd060",
   "metadata": {},
   "source": [
    "In this example, the division operator / divides a by b, resulting in the quotient 5.090909090909091."
   ]
  },
  {
   "cell_type": "markdown",
   "id": "40d3795e-46b2-4fbf-ba0e-218ffdfbbda0",
   "metadata": {},
   "source": [
    "(ii) % (Modulo Operator): The modulo operator % returns the remainder after the division of \n",
    "    one number by another. It is used to obtain the remainder of a division operation."
   ]
  },
  {
   "cell_type": "markdown",
   "id": "5f89c0da-65b4-41f6-bbfa-5d11aa7fff8f",
   "metadata": {},
   "source": [
    "Example:"
   ]
  },
  {
   "cell_type": "code",
   "execution_count": 20,
   "id": "887873ab-963f-4bb3-be42-890f2e15c418",
   "metadata": {},
   "outputs": [
    {
     "name": "stdout",
     "output_type": "stream",
     "text": [
      "1\n"
     ]
    }
   ],
   "source": [
    "a = 10\n",
    "b = 3\n",
    "result = a % b\n",
    "print(result)\n"
   ]
  },
  {
   "cell_type": "markdown",
   "id": "135b66a3-ad4c-46d2-9e6f-30bf8f145ad7",
   "metadata": {},
   "source": [
    "In this example, the modulo operator % calculates the remainder when a is divided by b,\n",
    "resulting in the value 1."
   ]
  },
  {
   "cell_type": "markdown",
   "id": "7885d628-d694-4947-be42-c2ea48e96592",
   "metadata": {},
   "source": [
    "(iii) // (Floor Division Operator): The floor division operator // performs division between \n",
    "     two operands and returns the quotient as an integer, rounded down to the nearest whole \n",
    "     number. It discards the fractional part of the division result."
   ]
  },
  {
   "cell_type": "markdown",
   "id": "59754113-8862-4ace-88d3-4ec8ad3b7dd1",
   "metadata": {},
   "source": [
    "Example:"
   ]
  },
  {
   "cell_type": "code",
   "execution_count": 21,
   "id": "ca196474-9dfd-4cff-9ee6-20a99385fb91",
   "metadata": {},
   "outputs": [
    {
     "name": "stdout",
     "output_type": "stream",
     "text": [
      "3\n"
     ]
    }
   ],
   "source": [
    "a = 10\n",
    "b = 3\n",
    "result = a // b\n",
    "print(result)"
   ]
  },
  {
   "cell_type": "markdown",
   "id": "653daae1-7d34-4ea8-9374-5efa20b40e46",
   "metadata": {},
   "source": [
    "In this example, the floor division operator // divides a by b and returns the whole number quotient 3,\n",
    "disregarding the fractional part"
   ]
  },
  {
   "cell_type": "markdown",
   "id": "1bfbaf01-61eb-4f43-9e04-5ce5cbb70430",
   "metadata": {},
   "source": [
    "(iv) ** (Exponentiation Operator): The exponentiation operator ** raises a base number to the power of \n",
    "    an exponent. It calculates the result of exponential operations."
   ]
  },
  {
   "cell_type": "markdown",
   "id": "ec3499a0-9b09-43e3-8a70-3eeabb79bc91",
   "metadata": {},
   "source": [
    "Example:"
   ]
  },
  {
   "cell_type": "code",
   "execution_count": 22,
   "id": "4cb10cef-8355-4c52-9d9c-c3bf54b4b303",
   "metadata": {},
   "outputs": [
    {
     "name": "stdout",
     "output_type": "stream",
     "text": [
      "8\n"
     ]
    }
   ],
   "source": [
    "base = 2\n",
    "exponent = 3\n",
    "result = base ** exponent\n",
    "print(result)"
   ]
  },
  {
   "cell_type": "markdown",
   "id": "f564ff0a-244b-4112-8818-458fee11032a",
   "metadata": {},
   "source": [
    "In this example, the exponentiation operator ** raises base to the power of exponent, \n",
    "resulting in 8."
   ]
  },
  {
   "cell_type": "markdown",
   "id": "b2e354e4-b268-4448-b7cf-5055985a191a",
   "metadata": {},
   "source": [
    "These operators (/, %, //, **) are fundamental mathematical operators used in Python for various calculations\n",
    "and manipulations involving numbers."
   ]
  },
  {
   "cell_type": "markdown",
   "id": "681a65a6-eef1-4ba9-8a72-e7a9b0c5966d",
   "metadata": {},
   "source": [
    "Q4. Create a list of length 10 of your choice containing multiple types of data. Using for loop print the\n",
    "element and its data type."
   ]
  },
  {
   "cell_type": "markdown",
   "id": "30cfb5f3-404e-4c12-857f-5aa2f941c2a7",
   "metadata": {},
   "source": [
    "Ans: Creating a list of length 10 with different types of data and using a for loop to print each\n",
    "     element along with its data type:"
   ]
  },
  {
   "cell_type": "code",
   "execution_count": 23,
   "id": "72cfb55f-aeb5-4782-b5ea-a641fe6508b7",
   "metadata": {},
   "outputs": [
    {
     "name": "stdout",
     "output_type": "stream",
     "text": [
      "10 <class 'int'>\n",
      "Hello <class 'str'>\n",
      "3.14 <class 'float'>\n",
      "True <class 'bool'>\n",
      "[1, 2, 3] <class 'list'>\n",
      "{'name': 'John'} <class 'dict'>\n",
      "(4, 5, 6) <class 'tuple'>\n",
      "None <class 'NoneType'>\n",
      "pwskills <class 'str'>\n",
      "2023 <class 'int'>\n"
     ]
    }
   ],
   "source": [
    "my_list = [10, 'Hello', 3.14, True, [1, 2, 3], {'name': 'John'}, (4, 5, 6), None, 'pwskills', 2023]\n",
    "\n",
    "for element in my_list:\n",
    "    print(element, type(element))\n"
   ]
  },
  {
   "cell_type": "markdown",
   "id": "59e472a3-dddd-4077-aab3-5c063fd555bd",
   "metadata": {},
   "source": [
    "Q5. Using a while loop, verify if the number A is purely divisible by number B and if so then how many\n",
    "times it can be divisible."
   ]
  },
  {
   "cell_type": "markdown",
   "id": "e97d2fa4-4f13-4a67-866e-ee478fc2962c",
   "metadata": {},
   "source": [
    "Ans: Using a while loop to verify if number A is divisible by number B and counting how many times it can be divided:"
   ]
  },
  {
   "cell_type": "code",
   "execution_count": 24,
   "id": "481c0408-d810-43e5-b92c-992767f90d34",
   "metadata": {},
   "outputs": [
    {
     "name": "stdout",
     "output_type": "stream",
     "text": [
      "Number A can be divided by B 1 times.\n"
     ]
    }
   ],
   "source": [
    "A = 36\n",
    "B = 4\n",
    "count = 0\n",
    "\n",
    "while A % B == 0:\n",
    "    A = A // B\n",
    "    count += 1\n",
    "\n",
    "print(\"Number A can be divided by B\", count, \"times.\")"
   ]
  },
  {
   "cell_type": "markdown",
   "id": "e5b11d3b-278d-4d77-b3c0-b42782eafb6a",
   "metadata": {},
   "source": [
    "Q6. Create a list containing 25 int type data. Using for loop and if-else condition print if the element is\n",
    "divisible by 3 or not."
   ]
  },
  {
   "cell_type": "markdown",
   "id": "bd78263b-2c40-4ac8-bd93-8d3b32f9506e",
   "metadata": {},
   "source": [
    "Ans: Create a list containing 25 int type data. Using for loop and if-else condition print if the element is\n",
    "divisible by 3 or not :-"
   ]
  },
  {
   "cell_type": "code",
   "execution_count": 25,
   "id": "c59baf29-6ffa-4059-9375-6513fe59c470",
   "metadata": {},
   "outputs": [
    {
     "name": "stdout",
     "output_type": "stream",
     "text": [
      "7 is not divisible by 3\n",
      "12 is divisible by 3\n",
      "21 is divisible by 3\n",
      "8 is not divisible by 3\n",
      "33 is divisible by 3\n",
      "18 is divisible by 3\n",
      "42 is divisible by 3\n",
      "10 is not divisible by 3\n",
      "27 is divisible by 3\n",
      "15 is divisible by 3\n",
      "5 is not divisible by 3\n",
      "30 is divisible by 3\n",
      "9 is divisible by 3\n",
      "16 is not divisible by 3\n",
      "25 is not divisible by 3\n",
      "36 is divisible by 3\n",
      "6 is divisible by 3\n",
      "13 is not divisible by 3\n",
      "39 is divisible by 3\n",
      "22 is not divisible by 3\n",
      "4 is not divisible by 3\n",
      "31 is not divisible by 3\n",
      "20 is not divisible by 3\n",
      "24 is divisible by 3\n",
      "11 is not divisible by 3\n"
     ]
    }
   ],
   "source": [
    "my_list = [7, 12, 21, 8, 33, 18, 42, 10, 27, 15, 5, 30, 9, 16, 25, 36, 6, 13, 39, 22, 4, 31, 20, 24, 11]\n",
    "\n",
    "for element in my_list:\n",
    "    if element % 3 == 0:\n",
    "        print(element, \"is divisible by 3\")\n",
    "    else:\n",
    "        print(element, \"is not divisible by 3\")\n"
   ]
  },
  {
   "cell_type": "markdown",
   "id": "67620dd4-3907-41dd-9962-debfaf6d61e1",
   "metadata": {},
   "source": [
    "Q7. What do you understand about mutable and immutable data types? Give examples for both showing\n",
    "this property."
   ]
  },
  {
   "cell_type": "markdown",
   "id": "7f462e47-f366-4fb7-8e35-47eeca6535cb",
   "metadata": {},
   "source": [
    "Ans: * Immutable Data Types: Immutable data types are those whose state cannot be modified after they are created. Any operation on an immutable object results in the creation of a new object rather than modifying the original one. Examples of immutable data types include strings, numbers (integers, floats), and tuples."
   ]
  },
  {
   "cell_type": "code",
   "execution_count": 26,
   "id": "201227c7-4b5b-4bdc-aa74-7e57e67a6d8a",
   "metadata": {},
   "outputs": [
    {
     "name": "stdout",
     "output_type": "stream",
     "text": [
      "Alice\n",
      "Elice\n",
      "15\n",
      "(1, 2, 3)\n",
      "(1, 2, 3, 4, 5)\n"
     ]
    }
   ],
   "source": [
    "# Example of immutable data types\n",
    "\n",
    "# Strings\n",
    "name = \"Alice\"\n",
    "new_name = name.replace(\"A\", \"E\")\n",
    "print(name)  # Output: \"Alice\"\n",
    "print(new_name)  # Output: \"Elise\"\n",
    "\n",
    "# Numbers\n",
    "num = 10\n",
    "num += 5\n",
    "print(num)  # Output: 15\n",
    "\n",
    "# Tuples\n",
    "my_tuple = (1, 2, 3)\n",
    "new_tuple = my_tuple + (4, 5)\n",
    "print(my_tuple)  # Output: (1, 2, 3)\n",
    "print(new_tuple)  # Output: (1, 2, 3, 4, 5)"
   ]
  },
  {
   "cell_type": "markdown",
   "id": "70cf9331-c006-41fe-97bf-ab19b2c52ec8",
   "metadata": {},
   "source": [
    "* Mutable Data Types: Mutable data types are those that can be modified after they are created. \n",
    " Operations performed on mutable objects directly modify the object itself without creating a new\n",
    "object. Examples of mutable data types include lists, dictionaries, and sets."
   ]
  },
  {
   "cell_type": "code",
   "execution_count": 27,
   "id": "eb6ceaf9-1006-4685-be95-b15df711723d",
   "metadata": {},
   "outputs": [
    {
     "name": "stdout",
     "output_type": "stream",
     "text": [
      "[1, 2, 3, 4]\n",
      "{'name': 'Alice', 'age': 26}\n",
      "{1, 2, 3, 4}\n"
     ]
    }
   ],
   "source": [
    "# Example of mutable data types\n",
    "\n",
    "# Lists\n",
    "my_list = [1, 2, 3]\n",
    "my_list.append(4)\n",
    "print(my_list)  # Output: [1, 2, 3, 4]\n",
    "\n",
    "# Dictionaries\n",
    "my_dict = {'name': 'Alice', 'age': 25}\n",
    "my_dict['age'] = 26\n",
    "print(my_dict)  # Output: {'name': 'Alice', 'age': 26}\n",
    "\n",
    "# Sets\n",
    "my_set = {1, 2, 3}\n",
    "my_set.add(4)\n",
    "print(my_set)  # Output: {1, 2, 3, 4}"
   ]
  },
  {
   "cell_type": "code",
   "execution_count": null,
   "id": "6d410ec7-8c1e-42e6-8b6e-1751492d8417",
   "metadata": {},
   "outputs": [],
   "source": []
  }
 ],
 "metadata": {
  "kernelspec": {
   "display_name": "Python 3 (ipykernel)",
   "language": "python",
   "name": "python3"
  },
  "language_info": {
   "codemirror_mode": {
    "name": "ipython",
    "version": 3
   },
   "file_extension": ".py",
   "mimetype": "text/x-python",
   "name": "python",
   "nbconvert_exporter": "python",
   "pygments_lexer": "ipython3",
   "version": "3.10.8"
  }
 },
 "nbformat": 4,
 "nbformat_minor": 5
}
